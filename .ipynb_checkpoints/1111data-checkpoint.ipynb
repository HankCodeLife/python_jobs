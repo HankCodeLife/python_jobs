{
 "cells": [
  {
   "cell_type": "code",
   "execution_count": 5,
   "metadata": {},
   "outputs": [],
   "source": [
    "import requests\n",
    "from bs4 import BeautifulSoup\n",
    "import pandas as pd\n",
    "import time"
   ]
  },
  {
   "cell_type": "code",
   "execution_count": 6,
   "metadata": {},
   "outputs": [
    {
     "data": {
      "text/plain": [
       "'https://www.1111.com.tw/search/job?ks=python'"
      ]
     },
     "execution_count": 6,
     "metadata": {},
     "output_type": "execute_result"
    }
   ],
   "source": [
    "df = pd.DataFrame()\n",
    "kw = 'python'\n",
    "baseUrl = 'https://www.1111.com.tw/search/job?ks=' + kw\n",
    "baseUrl"
   ]
  },
  {
   "cell_type": "code",
   "execution_count": 7,
   "metadata": {},
   "outputs": [
    {
     "data": {
      "text/plain": [
       "48"
      ]
     },
     "execution_count": 7,
     "metadata": {},
     "output_type": "execute_result"
    }
   ],
   "source": [
    "html = requests.get(baseUrl).text\n",
    "soup = BeautifulSoup(html, 'lxml')\n",
    "page = soup.select('.custom-select.srh-footer__content-page option:checked')[0].text\n",
    "page = int(page.replace('1 / ', ''))\n",
    "page"
   ]
  },
  {
   "cell_type": "code",
   "execution_count": 8,
   "metadata": {},
   "outputs": [],
   "source": [
    "# if page >= 15:\n",
    "#     page = 2\n",
    "# page"
   ]
  },
  {
   "cell_type": "code",
   "execution_count": 9,
   "metadata": {},
   "outputs": [
    {
     "ename": "KeyboardInterrupt",
     "evalue": "",
     "output_type": "error",
     "traceback": [
      "\u001b[1;31m---------------------------------------------------------------------------\u001b[0m",
      "\u001b[1;31mKeyboardInterrupt\u001b[0m                         Traceback (most recent call last)",
      "\u001b[1;32m<ipython-input-9-4a2ab81a1622>\u001b[0m in \u001b[0;36m<module>\u001b[1;34m\u001b[0m\n\u001b[0;32m     30\u001b[0m         \u001b[0mdf\u001b[0m \u001b[1;33m=\u001b[0m \u001b[0mdf\u001b[0m\u001b[1;33m.\u001b[0m\u001b[0mappend\u001b[0m\u001b[1;33m(\u001b[0m\u001b[0mdata\u001b[0m\u001b[1;33m,\u001b[0m \u001b[0mignore_index\u001b[0m\u001b[1;33m=\u001b[0m\u001b[1;32mTrue\u001b[0m\u001b[1;33m)\u001b[0m\u001b[1;33m\u001b[0m\u001b[1;33m\u001b[0m\u001b[0m\n\u001b[0;32m     31\u001b[0m \u001b[1;33m\u001b[0m\u001b[0m\n\u001b[1;32m---> 32\u001b[1;33m     \u001b[0mtime\u001b[0m\u001b[1;33m.\u001b[0m\u001b[0msleep\u001b[0m\u001b[1;33m(\u001b[0m\u001b[1;36m5\u001b[0m\u001b[1;33m)\u001b[0m\u001b[1;33m\u001b[0m\u001b[1;33m\u001b[0m\u001b[0m\n\u001b[0m\u001b[0;32m     33\u001b[0m \u001b[1;33m\u001b[0m\u001b[0m\n\u001b[0;32m     34\u001b[0m \u001b[1;33m\u001b[0m\u001b[0m\n",
      "\u001b[1;31mKeyboardInterrupt\u001b[0m: "
     ]
    }
   ],
   "source": [
    "for i in range(page):\n",
    "    url = baseUrl + '&page=' + str(i+1)\n",
    "    html = requests.get(url).text\n",
    "    soup = BeautifulSoup(html, 'lxml')\n",
    "    job = soup.select('li.srh-body__result-item.srh-body__result-item--loaded .item__job')\n",
    "    \n",
    "    for j in job:\n",
    "        jobName = j.select('.item__job-info--link.item__job-position0--link')[0].text\n",
    "        url = j.select('.item__job-info--link.item__job-position0--link')[0].get('href')\n",
    "        company = j.select('.item__job-info--link.item__job-organ--link')[0].get('aria-label')\n",
    "        companySort = j.select('.item__job-organ--attr')[0].get('aria-label')\n",
    "        area = j.select('.item__job-control-item.item__job-control-workcity')[0].get('aria-label')\n",
    "        salary = j.select('.item__job-prop-item.item__job-prop-salary')[0].get('aria-label')\n",
    "        experiment = j.select('.item__job-prop-item.item__job-prop-experience')[0].get('aria-label')\n",
    "        school = j.select('.item__job-prop-item.item__job-prop-grade')[0].get('aria-label')\n",
    "        content = j.select('.item__job-desc.item__job-desc-un_extension')[0].get('title')\n",
    "        \n",
    "        data = [{'職位名稱':jobName,\n",
    "             '工作網址':url,\n",
    "             '公司名稱':company,\n",
    "             '公司類別':companySort,\n",
    "             '工作地點':area,\n",
    "             '薪資':salary,\n",
    "             '工作經驗':experiment,\n",
    "             '學歷':school,\n",
    "             '工作內容':content}]\n",
    "        \n",
    "     \n",
    "\n",
    "        df = df.append(data, ignore_index=True)\n",
    "        \n",
    "#     time.sleep(5)\n",
    "        \n",
    "\n",
    "df"
   ]
  },
  {
   "cell_type": "code",
   "execution_count": null,
   "metadata": {},
   "outputs": [],
   "source": [
    "# df.to_excel('ok.xlsx', index=False)"
   ]
  }
 ],
 "metadata": {
  "kernelspec": {
   "display_name": "Python 3",
   "language": "python",
   "name": "python3"
  },
  "language_info": {
   "codemirror_mode": {
    "name": "ipython",
    "version": 3
   },
   "file_extension": ".py",
   "mimetype": "text/x-python",
   "name": "python",
   "nbconvert_exporter": "python",
   "pygments_lexer": "ipython3",
   "version": "3.8.5"
  }
 },
 "nbformat": 4,
 "nbformat_minor": 4
}
